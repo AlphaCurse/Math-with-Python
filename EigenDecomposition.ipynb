{
  "nbformat": 4,
  "nbformat_minor": 0,
  "metadata": {
    "colab": {
      "name": "EigenDecomposition.ipynb",
      "provenance": [],
      "collapsed_sections": []
    },
    "kernelspec": {
      "name": "python3",
      "display_name": "Python 3"
    },
    "language_info": {
      "name": "python"
    }
  },
  "cells": [
    {
      "cell_type": "markdown",
      "source": [
        "Eigenvalues and Eigenvectors"
      ],
      "metadata": {
        "id": "N96iC6Lw-Un7"
      }
    },
    {
      "cell_type": "code",
      "source": [
        "import numpy as np\n",
        "from numpy.linalg import svd"
      ],
      "metadata": {
        "id": "-BLIHCawpunb"
      },
      "execution_count": 52,
      "outputs": []
    },
    {
      "cell_type": "code",
      "execution_count": 49,
      "metadata": {
        "colab": {
          "base_uri": "https://localhost:8080/"
        },
        "id": "ZKY1c93S4Dke",
        "outputId": "7ebb3192-50d5-4bed-ddc9-a940a1b1450a"
      },
      "outputs": [
        {
          "output_type": "execute_result",
          "data": {
            "text/plain": [
              "array([[6, 2],\n",
              "       [3, 5]])"
            ]
          },
          "metadata": {},
          "execution_count": 49
        }
      ],
      "source": [
        "A = np.array([[6, 2], \n",
        "      [3, 5]])\n",
        "A"
      ]
    },
    {
      "cell_type": "code",
      "source": [
        "eig_value, eig_vector = np.linalg.eig(A)"
      ],
      "metadata": {
        "id": "C0mDN0TN4vp1"
      },
      "execution_count": 50,
      "outputs": []
    },
    {
      "cell_type": "code",
      "source": [
        "print('The Eigenvalues are: ',eig_value)\n",
        "print('The Eigenvectors are: ',eig_vector)"
      ],
      "metadata": {
        "colab": {
          "base_uri": "https://localhost:8080/"
        },
        "id": "FxwayLZGiS7p",
        "outputId": "070047e3-ade8-45e1-f796-c8a9d86fd366"
      },
      "execution_count": 51,
      "outputs": [
        {
          "output_type": "stream",
          "name": "stdout",
          "text": [
            "The Eigenvalues are:  [8. 3.]\n",
            "The Eigenvectors are:  [[ 0.70710678 -0.5547002 ]\n",
            " [ 0.70710678  0.83205029]]\n"
          ]
        }
      ]
    },
    {
      "cell_type": "markdown",
      "source": [
        "Singular Value Decomposition"
      ],
      "metadata": {
        "id": "OEfSLwy-oY4e"
      }
    },
    {
      "cell_type": "code",
      "source": [
        "A"
      ],
      "metadata": {
        "id": "Q6in4av1icV5",
        "colab": {
          "base_uri": "https://localhost:8080/"
        },
        "outputId": "a7e3a4de-816f-4122-a5e0-9f0d29102979"
      },
      "execution_count": 53,
      "outputs": [
        {
          "output_type": "execute_result",
          "data": {
            "text/plain": [
              "array([[6, 2],\n",
              "       [3, 5]])"
            ]
          },
          "metadata": {},
          "execution_count": 53
        }
      ]
    },
    {
      "cell_type": "code",
      "source": [
        "Left, Mid, Right = svd(A)\n",
        "\n",
        "print('Left SV:',Left)\n",
        "print('SV:',Mid)\n",
        "print('Right SV:',Right)"
      ],
      "metadata": {
        "colab": {
          "base_uri": "https://localhost:8080/"
        },
        "id": "9KANIqootscy",
        "outputId": "9e1e3d67-c6e7-45f1-e491-fa9f3aaf1edc"
      },
      "execution_count": 54,
      "outputs": [
        {
          "output_type": "stream",
          "name": "stdout",
          "text": [
            "Left SV: [[-0.7438189  -0.66838121]\n",
            " [-0.66838121  0.7438189 ]]\n",
            "SV: [8.07219027 2.97317075]\n",
            "Right SV: [[-0.80127658 -0.5982941 ]\n",
            " [-0.5982941   0.80127658]]\n"
          ]
        }
      ]
    },
    {
      "cell_type": "markdown",
      "source": [
        "Determinant"
      ],
      "metadata": {
        "id": "9OSvGEdiuSUt"
      }
    },
    {
      "cell_type": "code",
      "source": [
        "A"
      ],
      "metadata": {
        "colab": {
          "base_uri": "https://localhost:8080/"
        },
        "id": "icNsiy5-uUR9",
        "outputId": "ebccc5fd-9a83-4efd-e13f-f64df3e30525"
      },
      "execution_count": 55,
      "outputs": [
        {
          "output_type": "execute_result",
          "data": {
            "text/plain": [
              "array([[6, 2],\n",
              "       [3, 5]])"
            ]
          },
          "metadata": {},
          "execution_count": 55
        }
      ]
    },
    {
      "cell_type": "code",
      "source": [
        "np.linalg.det(A)"
      ],
      "metadata": {
        "colab": {
          "base_uri": "https://localhost:8080/"
        },
        "id": "yiKChdIRuV95",
        "outputId": "b506bdb0-4a99-4d33-fce4-111bd78feae7"
      },
      "execution_count": 56,
      "outputs": [
        {
          "output_type": "execute_result",
          "data": {
            "text/plain": [
              "23.999999999999993"
            ]
          },
          "metadata": {},
          "execution_count": 56
        }
      ]
    }
  ]
}