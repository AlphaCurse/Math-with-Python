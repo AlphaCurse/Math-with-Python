{
  "nbformat": 4,
  "nbformat_minor": 0,
  "metadata": {
    "colab": {
      "name": "MathWithPythonW3.ipynb",
      "provenance": [],
      "collapsed_sections": []
    },
    "kernelspec": {
      "name": "python3",
      "display_name": "Python 3"
    },
    "language_info": {
      "name": "python"
    }
  },
  "cells": [
    {
      "cell_type": "markdown",
      "source": [
        "**Test Week 3: Tyler Brown**"
      ],
      "metadata": {
        "id": "_ukIsdskDycY"
      }
    },
    {
      "cell_type": "code",
      "source": [
        "import numpy as np\n",
        "import pandas as pd\n",
        "import matplotlib.pyplot as plt\n",
        "import scipy.stats\n",
        "from scipy.stats import norm\n",
        "from scipy.stats import binom"
      ],
      "metadata": {
        "id": "Udm_btwEEWRk"
      },
      "execution_count": 19,
      "outputs": []
    },
    {
      "cell_type": "markdown",
      "source": [
        "1. The weights of steers in a herd are distributed normally.  The variance is 40,000 and the mean steer weight is 1300 lbs.  Find the probability that the weight of a randomly selected steer is greater than 979 lbs. (Round your answer to 4 decimal places)"
      ],
      "metadata": {
        "id": "1kCUp81CD8kE"
      }
    },
    {
      "cell_type": "code",
      "execution_count": 3,
      "metadata": {
        "colab": {
          "base_uri": "https://localhost:8080/"
        },
        "id": "IR0EB176Dxgu",
        "outputId": "1cb90fc6-941f-4b45-f544-cdec3d3b3c74"
      },
      "outputs": [
        {
          "output_type": "stream",
          "name": "stdout",
          "text": [
            "The probability is: 0.9458\n"
          ]
        }
      ],
      "source": [
        "lbs = 979\n",
        "mean = 1300\n",
        "sd = 40000 ** 0.5\n",
        "weight_probability = round(norm.sf(lbs, mean, sd),4)\n",
        "\n",
        "print('The probability is:',weight_probability)"
      ]
    },
    {
      "cell_type": "markdown",
      "source": [
        "2. \tSVGA monitors manufactured by TSI Electronics have life spans that have a normal distribution with a variance of 1,960,000 and a mean life span of 11,000 hours.  If a SVGA monitor is selected at random, find the probability that the life span of the monitor will be more than 8340 hours. (Round your answer to 4 decimal places)"
      ],
      "metadata": {
        "id": "PpOfntIbGaPg"
      }
    },
    {
      "cell_type": "code",
      "source": [
        "hrs = 8340\n",
        "mean = 11000\n",
        "sd = 1960000 ** 0.5\n",
        "lifespan_probability = round(norm.sf(hrs, mean, sd),4)\n",
        "\n",
        "print('The probability is:',lifespan_probability)"
      ],
      "metadata": {
        "colab": {
          "base_uri": "https://localhost:8080/"
        },
        "id": "nC-XkYP4GdAA",
        "outputId": "cf471f8c-cc38-4d6d-e5bd-802ce5af939a"
      },
      "execution_count": 4,
      "outputs": [
        {
          "output_type": "stream",
          "name": "stdout",
          "text": [
            "The probability is: 0.9713\n"
          ]
        }
      ]
    },
    {
      "cell_type": "markdown",
      "source": [
        "3. \tSuppose the mean income of firms in the industry for a year is 80 million dollars with a standard deviation of 3 million dollars.  If incomes for the industry are distributed normally, what is the probability that a randomly selected firm will earn between 83 and 85 million dollars? (Round your answer to 4 decimal places)"
      ],
      "metadata": {
        "id": "zaijljelNVLC"
      }
    },
    {
      "cell_type": "code",
      "source": [
        "earn1 = 83000000\n",
        "earn2 = 85000000\n",
        "mean = 80000000\n",
        "sd = 3000000\n",
        "high_earn = norm.sf(earn2, mean, sd)\n",
        "low_earn = norm.cdf(earn1, mean, sd)\n",
        "earn_probability = round(low_earn - high_earn, 4)\n",
        "\n",
        "print('The probability is:',earn_probability)"
      ],
      "metadata": {
        "colab": {
          "base_uri": "https://localhost:8080/"
        },
        "id": "amB2Rq7QBzjN",
        "outputId": "a61804c5-24c2-4b08-eaeb-9626e5920fba"
      },
      "execution_count": 5,
      "outputs": [
        {
          "output_type": "stream",
          "name": "stdout",
          "text": [
            "The probability is: 0.7936\n"
          ]
        }
      ]
    },
    {
      "cell_type": "markdown",
      "source": [
        "4. \tSuppose GRE Verbal scores are normally distributed with a mean of 456 and a standard deviation of 123.  A university plans to offer tutoring jobs to students whose scores are in the top 14%.  What is the minimum score required for the job offer?  Round your answer to the nearest whole number, if necessary."
      ],
      "metadata": {
        "id": "5X-N9n24ERgY"
      }
    },
    {
      "cell_type": "code",
      "source": [
        "tutor = 1 - 0.14\n",
        "mean = 456\n",
        "sd = 123\n",
        "tutor_probability = round(norm.ppf(tutor, mean, sd))\n",
        "\n",
        "print('The probability is:',tutor_probability)"
      ],
      "metadata": {
        "colab": {
          "base_uri": "https://localhost:8080/"
        },
        "id": "a55cpc4TEThD",
        "outputId": "7d668aa5-6110-4f84-e883-5159995d4753"
      },
      "execution_count": 6,
      "outputs": [
        {
          "output_type": "stream",
          "name": "stdout",
          "text": [
            "The probability is: 589\n"
          ]
        }
      ]
    },
    {
      "cell_type": "markdown",
      "source": [
        "5. \tThe lengths of nails produced in a factory are normally distributed with a mean of 6.13 centimeters and a standard deviation of 0.06 centimeters.  Find the two lengths that separate the top 7% and the bottom 7%.  These lengths could serve as limits used to identify which nails should be rejected.  Round your answer to the nearest hundredth, if necessary."
      ],
      "metadata": {
        "id": "JhQjhAW3JZtl"
      }
    },
    {
      "cell_type": "code",
      "source": [
        "top = 0.93\n",
        "bottom = 0.07\n",
        "mean = 6.13\n",
        "sd = 0.06\n",
        "top_prob = round(norm.ppf(top, mean, sd), 2)\n",
        "bottom_prob = round(norm.ppf(bottom, mean, sd), 2)\n",
        "\n",
        "print('The lengths are Top:',top_prob, 'and Bottom:',bottom_prob)"
      ],
      "metadata": {
        "colab": {
          "base_uri": "https://localhost:8080/"
        },
        "id": "9JOxLAu2IzVw",
        "outputId": "980cd391-9113-47b1-d146-cb75819181e8"
      },
      "execution_count": 7,
      "outputs": [
        {
          "output_type": "stream",
          "name": "stdout",
          "text": [
            "The lengths are Top: 6.22 and Bottom: 6.04\n"
          ]
        }
      ]
    },
    {
      "cell_type": "markdown",
      "source": [
        "6. \tAn English professor assigns letter grades on a test according to the following scheme.\n",
        "\t\n",
        "  A:  Top 13% of scores\n",
        "\t\n",
        "  B:  Scores below the top 13% and above the bottom 55%\n",
        "\t\n",
        "  C:  Scores below the top 45% and above the bottom 20%\n",
        "\t\n",
        "  D:  Scores below the top 80% and above the bottom 9%\n",
        "\t\n",
        "  F:  Bottom 9% of scores\n",
        "\t\n",
        "  Scores on the test are normally distributed with a mean of 78.8 and a standard deviation of 9.8.  Find the numerical limits for a C grade.  Round your answers to the nearest whole number, if necessary.\n"
      ],
      "metadata": {
        "id": "_cirqB9xLDMK"
      }
    },
    {
      "cell_type": "code",
      "source": [
        "top_test = 0.55\n",
        "bot_test = 0.20\n",
        "mean = 78.8\n",
        "sd = 9.8\n",
        "top_lim = round(norm.ppf(top_test, mean, sd), 0)\n",
        "bot_lim = round(norm.ppf(bot_test, mean, sd), 0)\n",
        "\n",
        "print('The numerical limits are',top_lim, 'and',bot_lim)"
      ],
      "metadata": {
        "colab": {
          "base_uri": "https://localhost:8080/"
        },
        "id": "XyRf_YuJJ6ZR",
        "outputId": "23e9f68e-cd23-448a-ef75-d8dbb12e74db"
      },
      "execution_count": 8,
      "outputs": [
        {
          "output_type": "stream",
          "name": "stdout",
          "text": [
            "The numerical limits are 80.0 and 71.0\n"
          ]
        }
      ]
    },
    {
      "cell_type": "markdown",
      "source": [
        "7. \tSuppose ACT Composite scores are normally distributed with a mean of 21.2 and a standard deviation of 5.4.  A university plans to admit students whose scores are in the top 45%.  What is the minimum score required for admission?  Round your answer to the nearest tenth, if necessary."
      ],
      "metadata": {
        "id": "NASqecK4MUSt"
      }
    },
    {
      "cell_type": "code",
      "source": [
        "top_admit = 0.55\n",
        "mean = 21.2\n",
        "sd = 5.4\n",
        "min_score = round(norm.ppf(top_admit, mean, sd), 1)\n",
        "\n",
        "print('The minimum score required is',min_score)"
      ],
      "metadata": {
        "colab": {
          "base_uri": "https://localhost:8080/"
        },
        "id": "Nh7knLOxL60g",
        "outputId": "b8ae1efa-b44f-42c4-c77c-f5797237b26d"
      },
      "execution_count": 9,
      "outputs": [
        {
          "output_type": "stream",
          "name": "stdout",
          "text": [
            "The minimum score required is 21.9\n"
          ]
        }
      ]
    },
    {
      "cell_type": "markdown",
      "source": [
        "8. \tConsider the probability that less than 11 out of 151 students will not graduate on time.  Assume the probability that a given student will not graduate on time is 9%.  Approximate the probability using the normal distribution. (Round your answer to 4 decimal places.)"
      ],
      "metadata": {
        "id": "nxsy5gL6M9zw"
      }
    },
    {
      "cell_type": "code",
      "source": [
        "fail = 11\n",
        "total = 151\n",
        "mean = total * 0.09\n",
        "sd = (total * 0.09 * 0.91) ** 0.5\n",
        "norm_dist = round(norm.cdf(fail, mean, sd), 4)\n",
        "\n",
        "print('The probability is', norm_dist)"
      ],
      "metadata": {
        "colab": {
          "base_uri": "https://localhost:8080/"
        },
        "id": "pntudtj0MuCQ",
        "outputId": "1b22544c-b448-46f9-df7c-25a5c3b81709"
      },
      "execution_count": 10,
      "outputs": [
        {
          "output_type": "stream",
          "name": "stdout",
          "text": [
            "The probability is 0.2307\n"
          ]
        }
      ]
    },
    {
      "cell_type": "markdown",
      "source": [
        "9. \tThe mean lifetime of a tire is 48 months with a standard deviation of 7.  If 147 tires are sampled, what is the probability that the mean of the sample would be greater than 48.83 months? (Round your answer to 4 decimal places)"
      ],
      "metadata": {
        "id": "pOEx_m4tP2X3"
      }
    },
    {
      "cell_type": "code",
      "source": [
        "sample = 48.83\n",
        "mean = 48\n",
        "sd = 7/(147)**0.5\n",
        "tire_prob = round(norm.sf(sample, mean, sd), 4)\n",
        "\n",
        "print('The probability is', tire_prob)"
      ],
      "metadata": {
        "colab": {
          "base_uri": "https://localhost:8080/"
        },
        "id": "WoO-dAGdPyG_",
        "outputId": "12594766-a072-47fe-a3e6-8bb080fa3bd1"
      },
      "execution_count": 11,
      "outputs": [
        {
          "output_type": "stream",
          "name": "stdout",
          "text": [
            "The probability is 0.0753\n"
          ]
        }
      ]
    },
    {
      "cell_type": "markdown",
      "source": [
        "10. \tThe quality control manager at a computer manufacturing company believes that the mean life of a computer is 91 months, with a standard deviation of 10.  If he is correct, what is the probability that the mean of a sample of 68 computers would be greater than 93.54 months? (Round your answer to 4 decimal places)"
      ],
      "metadata": {
        "id": "hRm-YSlWRu9d"
      }
    },
    {
      "cell_type": "code",
      "source": [
        "months = 93.54\n",
        "mean = 91\n",
        "sd = 10/(68)**0.5\n",
        "comp_prob = round(norm.sf(months, mean, sd), 4)\n",
        "\n",
        "print('The probability is', comp_prob)"
      ],
      "metadata": {
        "colab": {
          "base_uri": "https://localhost:8080/"
        },
        "id": "LNw6t65gRX9f",
        "outputId": "2fc2b19f-b7d3-47f2-c113-1081d3189ea1"
      },
      "execution_count": 12,
      "outputs": [
        {
          "output_type": "stream",
          "name": "stdout",
          "text": [
            "The probability is 0.0181\n"
          ]
        }
      ]
    },
    {
      "cell_type": "markdown",
      "source": [
        "11. \tA director of reservations believes that 7% of the ticketed passengers are no-shows.  If the director is right, what is the probability that the proportion of no-shows in a sample of 540 ticketed passengers would differ from the population proportion by less than 3%? (Round your answer to 4 decimal places)"
      ],
      "metadata": {
        "id": "7q9NgkazSnoB"
      }
    },
    {
      "cell_type": "code",
      "source": [
        "sd = (0.07 * 0.93/540)**0.5\n",
        "round(norm.cdf(0.10, 0.07, sd) - norm.cdf(0.04, 0.07, sd),4)"
      ],
      "metadata": {
        "colab": {
          "base_uri": "https://localhost:8080/"
        },
        "id": "5Gyo1lf7SeC_",
        "outputId": "2499a17f-b905-4497-cd51-35f8692c7fc2"
      },
      "execution_count": 17,
      "outputs": [
        {
          "output_type": "execute_result",
          "data": {
            "text/plain": [
              "0.9937"
            ]
          },
          "metadata": {},
          "execution_count": 17
        }
      ]
    },
    {
      "cell_type": "markdown",
      "source": [
        "12. \tA bottle maker believes that 23% of his bottles are defective.  If the bottle maker is accurate, what is the probability that the proportion of defective bottles in a sample of 602 bottles would differ from the population proportion by greater than 4%? (Round your answer to 4 decimal places)"
      ],
      "metadata": {
        "id": "S8t_9iEgTPvj"
      }
    },
    {
      "cell_type": "code",
      "source": [
        "sd = (0.23 * 0.77/602)**0.5\n",
        "round(1 - (norm.cdf(0.27, 0.23, sd) - norm.cdf(0.19, 0.23, sd)),4)"
      ],
      "metadata": {
        "colab": {
          "base_uri": "https://localhost:8080/"
        },
        "id": "mWM9Oix8TRyy",
        "outputId": "d9cc4ba0-31ac-4951-8093-4c053cd9d22c"
      },
      "execution_count": 18,
      "outputs": [
        {
          "output_type": "execute_result",
          "data": {
            "text/plain": [
              "0.0197"
            ]
          },
          "metadata": {},
          "execution_count": 18
        }
      ]
    },
    {
      "cell_type": "markdown",
      "source": [
        "13. A research company desires to know the mean consumption of beef per week among males over age 48.  Suppose a sample of size 208 is drawn with x ̅  = 3.9.  Assume ® = 0.8 .  Construct the 80% confidence interval for the mean number of lb. of beef per week among males over 48. (Round your answers to 1 decimal place)"
      ],
      "metadata": {
        "id": "20dlfo5rTSJm"
      }
    },
    {
      "cell_type": "code",
      "source": [
        "mean = 3.9\n",
        "sd = 0.8\n",
        "n = 208\n",
        "\n",
        "ci = scipy.stats.t.interval(0.8, n-1, mean, sd)\n",
        "#due to the numbers being in a tuple, they cannot be rounded using this method\n",
        "#do you know of a way?\n",
        "print(ci)\n",
        "(2.9, 4.9)"
      ],
      "metadata": {
        "colab": {
          "base_uri": "https://localhost:8080/"
        },
        "id": "0lybVv8zTjyD",
        "outputId": "a752d40f-f0f1-42a3-9b2b-3fd60da94713"
      },
      "execution_count": 36,
      "outputs": [
        {
          "output_type": "stream",
          "name": "stdout",
          "text": [
            "(2.8714762403866754, 4.9285237596133245)\n"
          ]
        },
        {
          "output_type": "execute_result",
          "data": {
            "text/plain": [
              "(2.9, 4.9)"
            ]
          },
          "metadata": {},
          "execution_count": 36
        }
      ]
    },
    {
      "cell_type": "markdown",
      "source": [
        "14. \tAn economist wants to estimate the mean per capita income (in thousands of dollars) in a major city in California.  Suppose a sample of size 7472 is drawn with x ̅  = 16.6.  Assume ® = 11 .  Construct the 98% confidence interval for the mean per capita income. (Round your answers to 1 decimal place) "
      ],
      "metadata": {
        "id": "h952vKOATkgK"
      }
    },
    {
      "cell_type": "code",
      "source": [
        "mean = 16.6\n",
        "sd = 11\n",
        "n = 7472\n",
        "\n",
        "ci = scipy.stats.t.interval(0.98, n-1, mean, sd)\n",
        "print(ci)\n",
        "(-9.0, 42.2)"
      ],
      "metadata": {
        "colab": {
          "base_uri": "https://localhost:8080/"
        },
        "id": "3xT9GbUKTnfl",
        "outputId": "9d3fbeff-72bd-46ed-899f-497288136117"
      },
      "execution_count": 40,
      "outputs": [
        {
          "output_type": "stream",
          "name": "stdout",
          "text": [
            "(-8.995318280831032, 42.19531828083103)\n"
          ]
        },
        {
          "output_type": "execute_result",
          "data": {
            "text/plain": [
              "(-9.0, 42.2)"
            ]
          },
          "metadata": {},
          "execution_count": 40
        }
      ]
    },
    {
      "cell_type": "markdown",
      "source": [
        "15. Find the value of t such that 0.05 of the area under the curve is to the left of t.  Assume the degrees of freedom equals 26.\n",
        "\n",
        "Step 1. Choose the picture which best describes the problem.\n",
        "The top right image best describes the problem.\n",
        "\n",
        "Step 2. Write your answer below. \n"
      ],
      "metadata": {
        "id": "cAeD8UlzTn5E"
      }
    },
    {
      "cell_type": "code",
      "source": [
        "n = 26\n",
        "p = 0.05\n",
        "\n",
        "scipy.stats.t.isf(p / 2, n-1)"
      ],
      "metadata": {
        "colab": {
          "base_uri": "https://localhost:8080/"
        },
        "id": "CA8rikEvTwKX",
        "outputId": "fe886536-2aab-4c73-8749-574634c6754f"
      },
      "execution_count": 41,
      "outputs": [
        {
          "output_type": "execute_result",
          "data": {
            "text/plain": [
              "2.0595385527532946"
            ]
          },
          "metadata": {},
          "execution_count": 41
        }
      ]
    },
    {
      "cell_type": "markdown",
      "source": [
        "16. \tThe following measurements ( in picocuries per liter ) were recorded by a set of helium gas detectors installed in a laboratory facility:  \n",
        "\t                                             383.6, 347.1, 371.9, 347.6, 325.8, 337\n",
        "\n",
        "Using these measurements, construct a 90% confidence interval for the mean level of helium gas present in the facility.  Assume the population is normally distributed.  \n",
        "\n",
        "Step 1. Calculate the sample mean for the given sample data. (Round answer to 2 decimal places) \n",
        "\n",
        "\n",
        "Step 2. Calculate the sample standard deviation for the given sample data. (Round answer to 2 decimal places) \n",
        "\n",
        "\n",
        "Step 3. Find the critical value that should be used in constructing the confidence interval. (Round answer to 3 decimal places) \n",
        "\n",
        "\n",
        "Step 4. Construct the 90% confidence interval. (Round answer to 2 decimal places)\n"
      ],
      "metadata": {
        "id": "Bw1PqYN2T0IL"
      }
    },
    {
      "cell_type": "code",
      "source": [
        "array = [383.6, 347.1, 371.9, 347.6, 325.8, 337]\n",
        "mean = round(np.mean(array),2)\n",
        "print('Mean:',mean)\n",
        "std = round(np.std(array),2)\n",
        "print('Standard Deviation:',std)\n",
        "n = len(array)\n",
        "ci = 0.90\n",
        "cv = round(scipy.stats.t.ppf(ci, n),3)\n",
        "print('Critical value:',cv)\n",
        "interval = scipy.stats.t.interval(ci, n-1, mean, std)\n",
        "print('Confidence Interval:',interval, '= (312.29, 392.05)')"
      ],
      "metadata": {
        "colab": {
          "base_uri": "https://localhost:8080/"
        },
        "id": "rpq3cxa3UBbd",
        "outputId": "fef2438e-7f77-4ccc-fa44-bc7facadb1e1"
      },
      "execution_count": 55,
      "outputs": [
        {
          "output_type": "stream",
          "name": "stdout",
          "text": [
            "Mean: 352.17\n",
            "Standard Deviation: 19.79\n",
            "Critical value: 1.44\n",
            "Confidence Interval: (312.2921927048774, 392.04780729512265) = (312.29, 392.05)\n"
          ]
        }
      ]
    },
    {
      "cell_type": "markdown",
      "source": [
        "17. \tA random sample of 16 fields of spring wheat has a mean yield of 46.4 bushels per acre and standard deviation of 2.45 bushels per acre.  Determine the 80% confidence interval for the true mean yield.  Assume the population is normally distributed.  \n",
        "\n",
        "Step 1. Find the critical value that should be used in constructing the confidence interval. (Round answer to 3 decimal places) \n",
        "\n",
        "\n",
        "Step 2. Construct the 80% confidence interval. (Round answer to 1 decimal place)\n"
      ],
      "metadata": {
        "id": "IHGWPc4ZUDMx"
      }
    },
    {
      "cell_type": "code",
      "source": [
        "n = 16\n",
        "mean = 46.4\n",
        "std = 2.45\n",
        "ci = 0.80\n",
        "cv = round(scipy.stats.t.ppf(ci, n),3)\n",
        "print('Critical value:',cv)\n",
        "interval = scipy.stats.t.interval(ci, n-1, mean, std)\n",
        "print('Confidence Interval:',interval, '= (43.1, 50.0)')"
      ],
      "metadata": {
        "colab": {
          "base_uri": "https://localhost:8080/"
        },
        "id": "XLAD2uQtUF8p",
        "outputId": "a83c05af-118c-4d6e-8647-26bdd1080f12"
      },
      "execution_count": 58,
      "outputs": [
        {
          "output_type": "stream",
          "name": "stdout",
          "text": [
            "Critical value: 0.865\n",
            "Confidence Interval: (43.115516260766384, 49.68448373923361) = (43.1, 50.0)\n"
          ]
        }
      ]
    },
    {
      "cell_type": "markdown",
      "source": [
        "18. \tA toy manufacturer wants to know how many new toys children buy each year.  She thinks the mean is 8 toys per year.  Assume a previous study found the standard deviation to be 1.9.  How large of a sample would be required in order to estimate the mean number of toys bought per child at the 99% confidence level with an error of at most 0.13 toys? (Round your answer up to the next integer)"
      ],
      "metadata": {
        "id": "NZBMgcDxUFXg"
      }
    },
    {
      "cell_type": "code",
      "source": [
        "mean = 8\n",
        "std = 1.9\n",
        "ci = 0.99\n",
        "se = 0.13\n",
        "z = ((1-ci)/2) - 1\n",
        "\n",
        "round((z * std / se)**2,0)"
      ],
      "metadata": {
        "colab": {
          "base_uri": "https://localhost:8080/"
        },
        "id": "h9eEsAxgUH8f",
        "outputId": "3204a5ee-5b29-4a72-b8c9-39e8a88f307c"
      },
      "execution_count": 69,
      "outputs": [
        {
          "output_type": "execute_result",
          "data": {
            "text/plain": [
              "211.0"
            ]
          },
          "metadata": {},
          "execution_count": 69
        }
      ]
    },
    {
      "cell_type": "markdown",
      "source": [
        "19. \tA research scientist wants to know how many times per hour a certain strand of bacteria reproduces.  He believes that the mean is 12.6.  Assume the variance is known to be 3.61.  How large of a sample would be required in order to estimate the mean number of reproductions per hour at the 95% confidence level with an error of at most 0.19 reproductions? (Round your answer up to the next integer)"
      ],
      "metadata": {
        "id": "OelwGdRiUIGh"
      }
    },
    {
      "cell_type": "code",
      "source": [
        "mean = 12.6\n",
        "std = 3.61**0.5\n",
        "se = 0.19\n",
        "ci = 0.95\n",
        "z = ((1-ci)/2) - 1\n",
        "\n",
        "round((z * std / se)**2,0)"
      ],
      "metadata": {
        "colab": {
          "base_uri": "https://localhost:8080/"
        },
        "id": "gEEdjn7bUKty",
        "outputId": "babe23a7-fa5e-4b00-b61b-89090bd599a1"
      },
      "execution_count": 70,
      "outputs": [
        {
          "output_type": "execute_result",
          "data": {
            "text/plain": [
              "95.0"
            ]
          },
          "metadata": {},
          "execution_count": 70
        }
      ]
    },
    {
      "cell_type": "markdown",
      "source": [
        "20. \tThe state education commission wants to estimate the fraction of tenth grade students that have reading skills at or below the eighth grade level.\n",
        "\n",
        "Step 1. Suppose a sample of 2089 tenth graders is drawn. Of the students sampled, 1734 read above the eighth grade level.  Using the data, estimate the proportion of tenth graders reading at or below the eighth grade level. (Write your answer as a fraction or a decimal number rounded to 3 decimal places) \n",
        "\n",
        "\n",
        "Step 2. Suppose a sample of 2089 tenth graders is drawn.  Of the students sampled, 1734 read above the eighth grade level.  Using the data, construct the 98% confidence interval for the population proportion of tenth graders reading at or below the eighth grade level. (Round your answers to 3 decimal places)"
      ],
      "metadata": {
        "id": "CjbOspR5UK52"
      }
    },
    {
      "cell_type": "code",
      "source": [
        "tenth = 2089\n",
        "eighth = 1734\n",
        "array = [tenth, eighth]\n",
        "print(round(1 - (eighth / tenth),3))\n",
        "ci = 0.98\n",
        "diff = tenth - eighth\n",
        "cv = scipy.stats.t.ppf(ci, diff)\n",
        "mean = np.mean(array)\n",
        "std = np.std(array)\n",
        "interval = scipy.stats.t.interval(ci, diff - 1, mean, std)\n",
        "print(interval, '= (1496.695, 2326.305)')"
      ],
      "metadata": {
        "colab": {
          "base_uri": "https://localhost:8080/"
        },
        "id": "wNM3HRvqUO-e",
        "outputId": "1ce058e5-398f-4aac-fbe3-c2d1141a5b83"
      },
      "execution_count": 73,
      "outputs": [
        {
          "output_type": "stream",
          "name": "stdout",
          "text": [
            "0.17\n",
            "(1496.6953196771628, 2326.304680322837) = (1496.695, 2326.305)\n"
          ]
        }
      ]
    },
    {
      "cell_type": "markdown",
      "source": [
        "21. \tAn environmentalist wants to find out the fraction of oil tankers that have spills each month.\n",
        "\n",
        "Step 1. Suppose a sample of 474 tankers is drawn.  Of these ships, 156 had spills.  Using the data, estimate the proportion of oil tankers that had spills. (Write your answer as a fraction or a decimal number rounded to 3 decimal places) \n",
        "\n",
        "Step 2. Suppose a sample of 474 tankers is drawn.  Of these ships, 156 had spills.  Using the data, construct the 95% confidence interval for the population proportion of oil tankers that have spills each month. (Round your answers to 3 decimal places)\n"
      ],
      "metadata": {
        "id": "X9S-9sPaUPlc"
      }
    },
    {
      "cell_type": "code",
      "source": [
        "p = 156 / 474\n",
        "print(round(p,3))\n",
        "interval = scipy.stats.t.interval(ci, mean, std)\n",
        "print(interval,'= (175.172, 179.828)')"
      ],
      "metadata": {
        "colab": {
          "base_uri": "https://localhost:8080/"
        },
        "id": "oXySIkuvUTYx",
        "outputId": "7ee7dac0-a3ec-4fc4-fb8a-d3a1ad49406f"
      },
      "execution_count": 78,
      "outputs": [
        {
          "output_type": "stream",
          "name": "stdout",
          "text": [
            "0.329\n",
            "(175.17169969678545, 179.82830030321455) = (175.172, 179.828)\n"
          ]
        }
      ]
    },
    {
      "cell_type": "code",
      "source": [
        "%%shell\n",
        "jupyter nbconvert --to html /content/MathWithPythonW3.ipynb"
      ],
      "metadata": {
        "id": "4Ih47x_UxoMd"
      },
      "execution_count": null,
      "outputs": []
    }
  ]
}