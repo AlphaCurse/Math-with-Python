{
  "nbformat": 4,
  "nbformat_minor": 0,
  "metadata": {
    "colab": {
      "name": "MathW/Python_W1.ipynb",
      "provenance": [],
      "collapsed_sections": []
    },
    "kernelspec": {
      "name": "python3",
      "display_name": "Python 3"
    },
    "language_info": {
      "name": "python"
    }
  },
  "cells": [
    {
      "cell_type": "markdown",
      "source": [
        "#1: Even-Odd Vending Machine"
      ],
      "metadata": {
        "id": "jktrTZJJ9zqB"
      }
    },
    {
      "cell_type": "code",
      "execution_count": 22,
      "metadata": {
        "colab": {
          "base_uri": "https://localhost:8080/"
        },
        "id": "lAcDbByF1oHQ",
        "outputId": "4ae40852-00e9-4089-8955-54b54b77e040"
      },
      "outputs": [
        {
          "output_type": "stream",
          "name": "stdout",
          "text": [
            "Please enter a number: 43\n",
            "Your number is odd.\n",
            "43\n",
            "Your number is odd.\n",
            "45\n",
            "Your number is odd.\n",
            "47\n",
            "Your number is odd.\n",
            "49\n",
            "Your number is odd.\n",
            "51\n",
            "Your number is odd.\n",
            "53\n",
            "Your number is odd.\n",
            "55\n",
            "Your number is odd.\n",
            "57\n",
            "Your number is odd.\n",
            "59\n"
          ]
        }
      ],
      "source": [
        "def factors(n):\n",
        "\n",
        "  for i in range(n, n+18):\n",
        "    if n % i == 0 and n % 2 == 0:\n",
        "      print('Your number is even.')\n",
        "      print(i)\n",
        "      n += 2\n",
        "    elif n % i == 0 and n % 2 != 0:\n",
        "      print('Your number is odd.')\n",
        "      print(i)\n",
        "      n += 2\n",
        "\n",
        "if __name__ == '__main__':\n",
        "  n = input('Please enter a number: ')\n",
        "  n = float(n)\n",
        "\n",
        "  if n > 0 and n.is_integer():\n",
        "    factors(int(n))\n",
        "  else:\n",
        "    print('Please enter a positive integer.')"
      ]
    },
    {
      "cell_type": "markdown",
      "source": [
        "#2: Exploring a Quadratic Function Visually\n",
        "\n",
        "The graph is linear."
      ],
      "metadata": {
        "id": "Gbd6oZH4-LLj"
      }
    },
    {
      "cell_type": "code",
      "source": [
        "import matplotlib.pyplot as plt\n",
        "\n",
        "x_values = [-3, -1, 2, 3, 5, 7, 8, 12, 14, 20]\n",
        "y = []\n",
        "\n",
        "for x in x_values:\n",
        "  y.append(x**2 + 2*x + 1)\n",
        "  print('x={0}, y={1}'.format(x, y))\n",
        "  \n",
        "plt.plot(x_values, y, marker = 'x')\n",
        "plt.xlabel('x-axis')\n",
        "plt.ylabel('y-axis')\n",
        "plt.title('Quadratic Function Visual');"
      ],
      "metadata": {
        "colab": {
          "base_uri": "https://localhost:8080/",
          "height": 478
        },
        "id": "w_JDXOdF3pDB",
        "outputId": "6cd0dcc8-2a94-481e-a1f0-1be7e7392811"
      },
      "execution_count": 43,
      "outputs": [
        {
          "output_type": "stream",
          "name": "stdout",
          "text": [
            "x=-3, y=[4]\n",
            "x=-1, y=[4, 0]\n",
            "x=2, y=[4, 0, 9]\n",
            "x=3, y=[4, 0, 9, 16]\n",
            "x=5, y=[4, 0, 9, 16, 36]\n",
            "x=7, y=[4, 0, 9, 16, 36, 64]\n",
            "x=8, y=[4, 0, 9, 16, 36, 64, 81]\n",
            "x=12, y=[4, 0, 9, 16, 36, 64, 81, 169]\n",
            "x=14, y=[4, 0, 9, 16, 36, 64, 81, 169, 225]\n",
            "x=20, y=[4, 0, 9, 16, 36, 64, 81, 169, 225, 441]\n"
          ]
        },
        {
          "output_type": "display_data",
          "data": {
            "text/plain": [
              "<Figure size 432x288 with 1 Axes>"
            ],
            "image/png": "[encoded data removed]"
          },
          "metadata": {
            "needs_background": "light"
          }
        }
      ]
    },
    {
      "cell_type": "markdown",
      "source": [
        "#3: Statistics Calculator"
      ],
      "metadata": {
        "id": "xweId3D9IG9c"
      }
    },
    {
      "cell_type": "code",
      "source": [
        "from collections import Counter\n",
        "import math\n",
        "\n",
        "def stat_data(filename):\n",
        "  \n",
        "  numbers = []\n",
        "  with open(filename) as f:\n",
        "    for line in f:\n",
        "      numbers.append(float(line))\n",
        "\n",
        "    return numbers\n",
        "\n",
        "def calc_mean(numbers):\n",
        "  s = sum(numbers)\n",
        "  N = len(numbers)\n",
        "  mean = s/N\n",
        "  return mean\n",
        "\n",
        "def calc_med(numbers):\n",
        "  N = len(numbers)\n",
        "  numbers.sort()\n",
        "  \n",
        "  if n % 2 == 0:\n",
        "    median1 = numbers[N//2]\n",
        "    median2 = numbers[N//2 - 1]\n",
        "    median = (median1 + median2)/2\n",
        "  \n",
        "  else:\n",
        "    median = numbers[N//2]\n",
        "  return median\n",
        "\n",
        "def calc_mode(numbers):\n",
        "  count = Counter(numbers)\n",
        "  mode = count.most_common(1)\n",
        "  return mode\n",
        "\n",
        "def calc_var(numbers):\n",
        "  N = len(numbers)\n",
        "  mean = sum(numbers) / N\n",
        "  deviation = [(x - mean) ** 2 for x in numbers]\n",
        "  variance = sum(deviation) / N\n",
        "  return variance\n",
        "\n",
        "def calc_stdev(numbers):\n",
        "  var = calc_var(numbers)\n",
        "  std_dev = math.sqrt(var)\n",
        "  return std_dev\n",
        "\n",
        "if __name__ == '__main__':\n",
        "  data = stat_data('mydata.txt')\n",
        "  mean = calc_mean(data)\n",
        "  median = calc_med(data)\n",
        "  mode = calc_mode(data)\n",
        "  variance = calc_var(data)\n",
        "  stdev = calc_stdev(data)\n",
        "  print('Mean: {0}'.format(mean))\n",
        "  print('Median: {0}'.format(median))\n",
        "  print('Mode: {0}'.format(mode))\n",
        "  print('Variance: {0}'.format(variance))\n",
        "  print('Standard Deviation: {0}'.format(stdev))"
      ],
      "metadata": {
        "colab": {
          "base_uri": "https://localhost:8080/"
        },
        "id": "GEDmelQQDJhA",
        "outputId": "406045a1-9550-45e1-acaa-519f4b22ba43"
      },
      "execution_count": 63,
      "outputs": [
        {
          "output_type": "stream",
          "name": "stdout",
          "text": [
            "Mean: 160.91666666666666\n",
            "Median: 35.0\n",
            "Mode: [(23.0, 3)]\n",
            "Variance: 38154.74305555556\n",
            "Standard Deviation: 195.33239120933212\n"
          ]
        }
      ]
    },
    {
      "cell_type": "markdown",
      "source": [
        "#4: Solving Single-Variable Inequalities"
      ],
      "metadata": {
        "id": "UJzsPrhsS6jB"
      }
    },
    {
      "cell_type": "code",
      "source": [
        "from sympy import Poly, Symbol, solve_poly_inequality, solve_rational_inequalities, solve_univariate_inequality, sympify"
      ],
      "metadata": {
        "id": "Wraq69fkJob3"
      },
      "execution_count": 2,
      "outputs": []
    },
    {
      "cell_type": "code",
      "source": [
        "def solve(expr):\n",
        "  if expr.is_polynomial():\n",
        "    x = Symbol('x')\n",
        "    lhs = expr.lhs\n",
        "    p = Poly(lhs, x)\n",
        "    rel = expr.rel_op\n",
        "    solve_poly_inequality(p, rel)\n",
        "  \n",
        "  elif expr.is_rational_function():\n",
        "    x = Symbol('x')\n",
        "    lhs = expr.lhs\n",
        "    numer, denom = lhs.as_numer_denom()\n",
        "    p1 = Poly(numer)\n",
        "    p2 = Poly(denom)\n",
        "    rel = expr.rel_op\n",
        "    solve_rational_inequalities([[((p1, p2), rel)]])\n",
        "  \n",
        "  else:\n",
        "    expr.sympify()\n",
        "    x = Symbol('x')\n",
        "    solve_univariate_inequality(expr, x, relational=False)\n",
        "    return \n",
        "\n",
        "expr = input()"
      ],
      "metadata": {
        "colab": {
          "base_uri": "https://localhost:8080/",
          "height": 244
        },
        "id": "ZExdRkA7wta7",
        "outputId": "bc05ba22-5641-4e7e-f921-5d9ace182c66"
      },
      "execution_count": 4,
      "outputs": [
        {
          "output_type": "error",
          "ename": "TypeError",
          "evalue": "ignored",
          "traceback": [
            "\u001b[0;31m---------------------------------------------------------------------------\u001b[0m",
            "\u001b[0;31mTypeError\u001b[0m                                 Traceback (most recent call last)",
            "\u001b[0;32m<ipython-input-4-47ff7399cefd>\u001b[0m in \u001b[0;36m<module>\u001b[0;34m()\u001b[0m\n\u001b[1;32m      1\u001b[0m \u001b[0mx\u001b[0m \u001b[0;34m=\u001b[0m \u001b[0mSymbol\u001b[0m\u001b[0;34m(\u001b[0m\u001b[0;34m'x'\u001b[0m\u001b[0;34m)\u001b[0m\u001b[0;34m\u001b[0m\u001b[0;34m\u001b[0m\u001b[0m\n\u001b[0;32m----> 2\u001b[0;31m \u001b[0mexpr\u001b[0m \u001b[0;34m=\u001b[0m \u001b[0minput\u001b[0m\u001b[0;34m(\u001b[0m\u001b[0;34m)\u001b[0m\u001b[0;34m\u001b[0m\u001b[0;34m\u001b[0m\u001b[0m\n\u001b[0m\u001b[1;32m      3\u001b[0m \u001b[0;34m\u001b[0m\u001b[0m\n\u001b[1;32m      4\u001b[0m \u001b[0;32mdef\u001b[0m \u001b[0msolve\u001b[0m\u001b[0;34m(\u001b[0m\u001b[0mexpr\u001b[0m\u001b[0;34m)\u001b[0m\u001b[0;34m:\u001b[0m\u001b[0;34m\u001b[0m\u001b[0;34m\u001b[0m\u001b[0m\n\u001b[1;32m      5\u001b[0m   \u001b[0;32mif\u001b[0m \u001b[0mexpr\u001b[0m\u001b[0;34m.\u001b[0m\u001b[0mis_polynomial\u001b[0m\u001b[0;34m(\u001b[0m\u001b[0;34m)\u001b[0m\u001b[0;34m:\u001b[0m\u001b[0;34m\u001b[0m\u001b[0;34m\u001b[0m\u001b[0m\n",
            "\u001b[0;31mTypeError\u001b[0m: 'str' object is not callable"
          ]
        }
      ]
    },
    {
      "cell_type": "markdown",
      "source": [
        "#5: Law of Large Numbers"
      ],
      "metadata": {
        "id": "Qnp19zeSW8Kx"
      }
    },
    {
      "cell_type": "code",
      "source": [
        "from sympy import FiniteSet\n",
        "import random\n",
        "\n",
        "def find_prob(target_score, max_rolls):\n",
        "  die_sides = FiniteSet(1, 2, 3, 4, 5, 6)\n",
        "  s = die_sides**max_rolls\n",
        "  if max_rolls > 1:\n",
        "    success_rolls = []\n",
        "    for elem in s:\n",
        "      if sum(elem) >= target_score:\n",
        "        success_rolls.append(elem)\n",
        "  else:\n",
        "    if target_score > 6:\n",
        "      success_rolls = []\n",
        "      for roll in die_sides:\n",
        "        if roll >= target_score:\n",
        "          success_rolls.append(roll)\n",
        "  e = FiniteSet(*success_rolls)\n",
        "  return len(e)/len(s)\n",
        "\n",
        "target_score = 20\n",
        "max_rolls = 500000\n",
        "p = find_prob(target_score, max_rolls)\n",
        "print('Probability: {0:.5f}'.format(p))"
      ],
      "metadata": {
        "colab": {
          "base_uri": "https://localhost:8080/",
          "height": 415
        },
        "id": "zhRfBTJHWL-s",
        "outputId": "d210f865-07d7-47f2-a960-d45ad222e8ba"
      },
      "execution_count": 78,
      "outputs": [
        {
          "output_type": "error",
          "ename": "RecursionError",
          "evalue": "ignored",
          "traceback": [
            "\u001b[0;31m---------------------------------------------------------------------------\u001b[0m",
            "\u001b[0;31mRecursionError\u001b[0m                            Traceback (most recent call last)",
            "\u001b[0;32m<ipython-input-78-2eb579931d10>\u001b[0m in \u001b[0;36m<module>\u001b[0;34m()\u001b[0m\n\u001b[1;32m     21\u001b[0m \u001b[0mtarget_score\u001b[0m \u001b[0;34m=\u001b[0m \u001b[0;36m20\u001b[0m\u001b[0;34m\u001b[0m\u001b[0;34m\u001b[0m\u001b[0m\n\u001b[1;32m     22\u001b[0m \u001b[0mmax_rolls\u001b[0m \u001b[0;34m=\u001b[0m \u001b[0;36m500000\u001b[0m\u001b[0;34m\u001b[0m\u001b[0;34m\u001b[0m\u001b[0m\n\u001b[0;32m---> 23\u001b[0;31m \u001b[0mp\u001b[0m \u001b[0;34m=\u001b[0m \u001b[0mfind_prob\u001b[0m\u001b[0;34m(\u001b[0m\u001b[0mtarget_score\u001b[0m\u001b[0;34m,\u001b[0m \u001b[0mmax_rolls\u001b[0m\u001b[0;34m)\u001b[0m\u001b[0;34m\u001b[0m\u001b[0;34m\u001b[0m\u001b[0m\n\u001b[0m\u001b[1;32m     24\u001b[0m \u001b[0mprint\u001b[0m\u001b[0;34m(\u001b[0m\u001b[0;34m'Probability: {0:.5f}'\u001b[0m\u001b[0;34m.\u001b[0m\u001b[0mformat\u001b[0m\u001b[0;34m(\u001b[0m\u001b[0mp\u001b[0m\u001b[0;34m)\u001b[0m\u001b[0;34m)\u001b[0m\u001b[0;34m\u001b[0m\u001b[0;34m\u001b[0m\u001b[0m\n",
            "\u001b[0;32m<ipython-input-78-2eb579931d10>\u001b[0m in \u001b[0;36mfind_prob\u001b[0;34m(target_score, max_rolls)\u001b[0m\n\u001b[1;32m      7\u001b[0m   \u001b[0;32mif\u001b[0m \u001b[0mmax_rolls\u001b[0m \u001b[0;34m>\u001b[0m \u001b[0;36m1\u001b[0m\u001b[0;34m:\u001b[0m\u001b[0;34m\u001b[0m\u001b[0;34m\u001b[0m\u001b[0m\n\u001b[1;32m      8\u001b[0m     \u001b[0msuccess_rolls\u001b[0m \u001b[0;34m=\u001b[0m \u001b[0;34m[\u001b[0m\u001b[0;34m]\u001b[0m\u001b[0;34m\u001b[0m\u001b[0;34m\u001b[0m\u001b[0m\n\u001b[0;32m----> 9\u001b[0;31m     \u001b[0;32mfor\u001b[0m \u001b[0melem\u001b[0m \u001b[0;32min\u001b[0m \u001b[0ms\u001b[0m\u001b[0;34m:\u001b[0m\u001b[0;34m\u001b[0m\u001b[0;34m\u001b[0m\u001b[0m\n\u001b[0m\u001b[1;32m     10\u001b[0m       \u001b[0;32mif\u001b[0m \u001b[0msum\u001b[0m\u001b[0;34m(\u001b[0m\u001b[0melem\u001b[0m\u001b[0;34m)\u001b[0m \u001b[0;34m>=\u001b[0m \u001b[0mtarget_score\u001b[0m\u001b[0;34m:\u001b[0m\u001b[0;34m\u001b[0m\u001b[0;34m\u001b[0m\u001b[0m\n\u001b[1;32m     11\u001b[0m         \u001b[0msuccess_rolls\u001b[0m\u001b[0;34m.\u001b[0m\u001b[0mappend\u001b[0m\u001b[0;34m(\u001b[0m\u001b[0melem\u001b[0m\u001b[0;34m)\u001b[0m\u001b[0;34m\u001b[0m\u001b[0;34m\u001b[0m\u001b[0m\n",
            "\u001b[0;32m/usr/local/lib/python3.7/dist-packages/sympy/utilities/iterables.py\u001b[0m in \u001b[0;36miproduct\u001b[0;34m(*iterables)\u001b[0m\n\u001b[1;32m    296\u001b[0m     \u001b[0;32melse\u001b[0m\u001b[0;34m:\u001b[0m\u001b[0;34m\u001b[0m\u001b[0;34m\u001b[0m\u001b[0m\n\u001b[1;32m    297\u001b[0m         \u001b[0mfirst\u001b[0m\u001b[0;34m,\u001b[0m \u001b[0mothers\u001b[0m \u001b[0;34m=\u001b[0m \u001b[0miterables\u001b[0m\u001b[0;34m[\u001b[0m\u001b[0;36m0\u001b[0m\u001b[0;34m]\u001b[0m\u001b[0;34m,\u001b[0m \u001b[0miterables\u001b[0m\u001b[0;34m[\u001b[0m\u001b[0;36m1\u001b[0m\u001b[0;34m:\u001b[0m\u001b[0;34m]\u001b[0m\u001b[0;34m\u001b[0m\u001b[0;34m\u001b[0m\u001b[0m\n\u001b[0;32m--> 298\u001b[0;31m         \u001b[0;32mfor\u001b[0m \u001b[0mef\u001b[0m\u001b[0;34m,\u001b[0m \u001b[0meo\u001b[0m \u001b[0;32min\u001b[0m \u001b[0m_iproduct2\u001b[0m\u001b[0;34m(\u001b[0m\u001b[0mfirst\u001b[0m\u001b[0;34m,\u001b[0m \u001b[0miproduct\u001b[0m\u001b[0;34m(\u001b[0m\u001b[0;34m*\u001b[0m\u001b[0mothers\u001b[0m\u001b[0;34m)\u001b[0m\u001b[0;34m)\u001b[0m\u001b[0;34m:\u001b[0m\u001b[0;34m\u001b[0m\u001b[0;34m\u001b[0m\u001b[0m\n\u001b[0m\u001b[1;32m    299\u001b[0m             \u001b[0;32myield\u001b[0m \u001b[0;34m(\u001b[0m\u001b[0mef\u001b[0m\u001b[0;34m,\u001b[0m\u001b[0;34m)\u001b[0m \u001b[0;34m+\u001b[0m \u001b[0meo\u001b[0m\u001b[0;34m\u001b[0m\u001b[0;34m\u001b[0m\u001b[0m\n\u001b[1;32m    300\u001b[0m \u001b[0;34m\u001b[0m\u001b[0m\n",
            "\u001b[0;32m/usr/local/lib/python3.7/dist-packages/sympy/utilities/iterables.py\u001b[0m in \u001b[0;36m_iproduct2\u001b[0;34m(iterable1, iterable2)\u001b[0m\n\u001b[1;32m    249\u001b[0m     \u001b[0mn\u001b[0m \u001b[0;34m=\u001b[0m \u001b[0;36m0\u001b[0m\u001b[0;34m\u001b[0m\u001b[0;34m\u001b[0m\u001b[0m\n\u001b[1;32m    250\u001b[0m     \u001b[0mappend\u001b[0m\u001b[0;34m(\u001b[0m\u001b[0mit1\u001b[0m\u001b[0;34m,\u001b[0m \u001b[0melems1\u001b[0m\u001b[0;34m)\u001b[0m\u001b[0;34m\u001b[0m\u001b[0;34m\u001b[0m\u001b[0m\n\u001b[0;32m--> 251\u001b[0;31m     \u001b[0mappend\u001b[0m\u001b[0;34m(\u001b[0m\u001b[0mit2\u001b[0m\u001b[0;34m,\u001b[0m \u001b[0melems2\u001b[0m\u001b[0;34m)\u001b[0m\u001b[0;34m\u001b[0m\u001b[0;34m\u001b[0m\u001b[0m\n\u001b[0m\u001b[1;32m    252\u001b[0m \u001b[0;34m\u001b[0m\u001b[0m\n\u001b[1;32m    253\u001b[0m     \u001b[0;32mwhile\u001b[0m \u001b[0mn\u001b[0m \u001b[0;34m<=\u001b[0m \u001b[0mlen\u001b[0m\u001b[0;34m(\u001b[0m\u001b[0melems1\u001b[0m\u001b[0;34m)\u001b[0m \u001b[0;34m+\u001b[0m \u001b[0mlen\u001b[0m\u001b[0;34m(\u001b[0m\u001b[0melems2\u001b[0m\u001b[0;34m)\u001b[0m\u001b[0;34m:\u001b[0m\u001b[0;34m\u001b[0m\u001b[0;34m\u001b[0m\u001b[0m\n",
            "\u001b[0;32m/usr/local/lib/python3.7/dist-packages/sympy/utilities/iterables.py\u001b[0m in \u001b[0;36mappend\u001b[0;34m(it, elems)\u001b[0m\n\u001b[1;32m    243\u001b[0m     \u001b[0msentinel\u001b[0m \u001b[0;34m=\u001b[0m \u001b[0mobject\u001b[0m\u001b[0;34m(\u001b[0m\u001b[0;34m)\u001b[0m\u001b[0;34m\u001b[0m\u001b[0;34m\u001b[0m\u001b[0m\n\u001b[1;32m    244\u001b[0m     \u001b[0;32mdef\u001b[0m \u001b[0mappend\u001b[0m\u001b[0;34m(\u001b[0m\u001b[0mit\u001b[0m\u001b[0;34m,\u001b[0m \u001b[0melems\u001b[0m\u001b[0;34m)\u001b[0m\u001b[0;34m:\u001b[0m\u001b[0;34m\u001b[0m\u001b[0;34m\u001b[0m\u001b[0m\n\u001b[0;32m--> 245\u001b[0;31m         \u001b[0me\u001b[0m \u001b[0;34m=\u001b[0m \u001b[0mnext\u001b[0m\u001b[0;34m(\u001b[0m\u001b[0mit\u001b[0m\u001b[0;34m,\u001b[0m \u001b[0msentinel\u001b[0m\u001b[0;34m)\u001b[0m\u001b[0;34m\u001b[0m\u001b[0;34m\u001b[0m\u001b[0m\n\u001b[0m\u001b[1;32m    246\u001b[0m         \u001b[0;32mif\u001b[0m \u001b[0me\u001b[0m \u001b[0;32mis\u001b[0m \u001b[0;32mnot\u001b[0m \u001b[0msentinel\u001b[0m\u001b[0;34m:\u001b[0m\u001b[0;34m\u001b[0m\u001b[0;34m\u001b[0m\u001b[0m\n\u001b[1;32m    247\u001b[0m             \u001b[0melems\u001b[0m\u001b[0;34m.\u001b[0m\u001b[0mappend\u001b[0m\u001b[0;34m(\u001b[0m\u001b[0me\u001b[0m\u001b[0;34m)\u001b[0m\u001b[0;34m\u001b[0m\u001b[0;34m\u001b[0m\u001b[0m\n",
            "... last 3 frames repeated, from the frame below ...\n",
            "\u001b[0;32m/usr/local/lib/python3.7/dist-packages/sympy/utilities/iterables.py\u001b[0m in \u001b[0;36miproduct\u001b[0;34m(*iterables)\u001b[0m\n\u001b[1;32m    296\u001b[0m     \u001b[0;32melse\u001b[0m\u001b[0;34m:\u001b[0m\u001b[0;34m\u001b[0m\u001b[0;34m\u001b[0m\u001b[0m\n\u001b[1;32m    297\u001b[0m         \u001b[0mfirst\u001b[0m\u001b[0;34m,\u001b[0m \u001b[0mothers\u001b[0m \u001b[0;34m=\u001b[0m \u001b[0miterables\u001b[0m\u001b[0;34m[\u001b[0m\u001b[0;36m0\u001b[0m\u001b[0;34m]\u001b[0m\u001b[0;34m,\u001b[0m \u001b[0miterables\u001b[0m\u001b[0;34m[\u001b[0m\u001b[0;36m1\u001b[0m\u001b[0;34m:\u001b[0m\u001b[0;34m]\u001b[0m\u001b[0;34m\u001b[0m\u001b[0;34m\u001b[0m\u001b[0m\n\u001b[0;32m--> 298\u001b[0;31m         \u001b[0;32mfor\u001b[0m \u001b[0mef\u001b[0m\u001b[0;34m,\u001b[0m \u001b[0meo\u001b[0m \u001b[0;32min\u001b[0m \u001b[0m_iproduct2\u001b[0m\u001b[0;34m(\u001b[0m\u001b[0mfirst\u001b[0m\u001b[0;34m,\u001b[0m \u001b[0miproduct\u001b[0m\u001b[0;34m(\u001b[0m\u001b[0;34m*\u001b[0m\u001b[0mothers\u001b[0m\u001b[0;34m)\u001b[0m\u001b[0;34m)\u001b[0m\u001b[0;34m:\u001b[0m\u001b[0;34m\u001b[0m\u001b[0;34m\u001b[0m\u001b[0m\n\u001b[0m\u001b[1;32m    299\u001b[0m             \u001b[0;32myield\u001b[0m \u001b[0;34m(\u001b[0m\u001b[0mef\u001b[0m\u001b[0;34m,\u001b[0m\u001b[0;34m)\u001b[0m \u001b[0;34m+\u001b[0m \u001b[0meo\u001b[0m\u001b[0;34m\u001b[0m\u001b[0;34m\u001b[0m\u001b[0m\n\u001b[1;32m    300\u001b[0m \u001b[0;34m\u001b[0m\u001b[0m\n",
            "\u001b[0;31mRecursionError\u001b[0m: maximum recursion depth exceeded while calling a Python object"
          ]
        }
      ]
    },
    {
      "cell_type": "markdown",
      "source": [
        "#6: Implement the Gradient Descent"
      ],
      "metadata": {
        "id": "7_iuYVy0grgy"
      }
    },
    {
      "cell_type": "code",
      "source": [
        "from sympy import Derivative, Symbol, sympify\n",
        "def grad_desc(x, f1x, x0):\n",
        "  epsilon = 1e-6\n",
        "  step_size = 1e-4\n",
        "  x_new = x0\n",
        "  x_old = x_new + step_size*f1x.subs({x:x_new}).evalf()\n",
        "  while abs(x_new - x_old) > epsilon:\n",
        "    x_new = x_old\n",
        "    x_old = x_new + step_size*f1x.subs({x:x_new}).evalf()\n",
        "  return x_old\n",
        "if __name__ == '__main__':\n",
        "  f = input('Enter a function in one variable: ')\n",
        "  var = input('Enter the variable to differentiate with respect to: ')\n",
        "  var0 = float(input('Enter the initial value of the variable: '))\n",
        "  try:\n",
        "    f = sympify(f)\n",
        "  except SympifyError:\n",
        "    print('Invalid function entered')\n",
        "  else:\n",
        "    var = Symbol(var)\n",
        "    d = Derivative(f, var).doit()\n",
        "    var_min = grad_desc(var0, d, var)\n",
        "    print('{0}: {1}'.format(var.name, var_min))\n",
        "    print('Minimum value: {0}'.format(f.subs({var:var_min})))"
      ],
      "metadata": {
        "id": "AKB7crO0XzLM"
      },
      "execution_count": null,
      "outputs": []
    }
  ]
}